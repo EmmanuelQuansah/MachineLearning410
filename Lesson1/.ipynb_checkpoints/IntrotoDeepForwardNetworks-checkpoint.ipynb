{
 "cells": [
  {
   "cell_type": "markdown",
   "metadata": {},
   "source": [
    "# Introduction to Deep Forward Networks. \n",
    "\n",
    "This lesson introduces you to the basics of neural network architecture in the form of deep forward networks. This architecture is the quintissential deep neural net architecture. In this lesson you will master the following:\n",
    "\n",
    "- Why is deep learning important and who it relates to representation, learning and inference.\n",
    "- How a basic Preceptron works.\n",
    "- How to apply different types of loss functions. \n",
    "- Understand why nonlinear activation is important and why rectified linear units are a good choice.\n",
    "- How back propagation works, and how you apply the chain rule of calculus to determine gradient. \n",
    "- Understand the architectural trade-off between depth and width in deep networks.\n",
    "\n",
    "The required reading for this lesson is, **Chapter 6: Deep Forward Networks** in GBC. "
   ]
  },
  {
   "cell_type": "markdown",
   "metadata": {},
   "source": [
    "## Why is deep learning important?\n",
    "\n",
    "Deep learning methods are a form of **artificial intelligence (AI)** or **machine intelligence**. More sepecifically, deep learning algorithms are a type of **machine learning**. \n",
    "\n",
    "What properties does machine intelligene require? There have been many answers to this question over the history of computing. In this case, we will take a practical view, sometimes known as **weak AI**. There are three key properties an intelligent machine must have. Deep learning algorithms are one of a few classes of algorithms that can do the following, essential to machine intelligence:\n",
    "\n",
    "1. **Representaion:** An intelligent machine must be able to represent a model of the world it interacts with in a general manner. Representation is key to intelligence. Without a good representation the best learning and inference algorithms will struggle. Whereas, good represenation can greatly facilitate learning and inference. In conventional machine learing the representation is model and a set of features. The representation is limited to what the features can provide directly. Deep learning algorithms, on the other hand, learn learn complex representations from raw features. This behavior allows deep learning algorithms to approximate complex relationships. Further, the representations learned often generalize well, up to a point. \n",
    "2. **Learning:** As you likely guessed from the very name, deep learning algorithms learn from data. Whereas, conventional machine learning is focused on inference,deep learning algorithms learn both inferencce and representations. As a result, deep leaning algorithms are more complex and therefore harder to train than conventional machine learning algorithms.  \n",
    "3. **Inference:** Any machine intelligence algorithm must be able to perform inference. The inference is the result produced given new input data. To be useful, the inferences produced by a machine intelligence algorithm must **generalize** beyond the cases used for learning or training. Good generalization requires both good represenations and learning which can deal with the complexity of diverse situations. Some deep learning algorithms can approach human levels of performance in inference tasks such as recognizing objects in images or understanding natural speach. \n",
    "\n",
    "**That's it!** The entire rest of this course will focus on just these three points!"
   ]
  },
  {
   "cell_type": "markdown",
   "metadata": {},
   "source": [
    "## A simple preceptron"
   ]
  },
  {
   "cell_type": "code",
   "execution_count": null,
   "metadata": {
    "collapsed": true
   },
   "outputs": [],
   "source": []
  },
  {
   "cell_type": "markdown",
   "metadata": {},
   "source": [
    "## Loss functions\n",
    "\n",
    "To train a neural network we must have a **loss function**, also known as a **cost function**. In simple terms, the loss function measures the fit of a model to the training data. The lower the loss, the better the fit. \n",
    "\n",
    "To train deep learning models **cross entropy** is often used as a loss function. This is an information theoretic measure of model fit. We can understand cross entropy as follows. \n",
    "\n",
    "First define **Shannon entropy** as:\n",
    "\n",
    "$$\\mathbb{H}(I) = E[I(X)] = E[-ln_b(P(X))] = - \\sum_{i=1}^n P(x_i) ln_b(P(x_i)\\\\\n",
    "where\\\\\n",
    "E[] = the\\ expectation\\\\\n",
    "I(X) = the\\ information\\ content\\\\ \n",
    "P(X) = probabiliy\\ of\\ X\\\\\n",
    "b = base\\ of\\ the\\ logrithm$$  \n",
    "\n",
    "This rather abstract formula gives us a way to compute the expecte information content of a set of values $X$. The more likely (higher probability) of $X$ the less informative it is. \n",
    "\n",
    "To create a loss function from the definition of Shannon entropy we start with the **Kullback-Leibler divergence (KL divergence)** or **relative entropy**. The KL divergence is an information theortic measure of the difference between two distributions, $P(X)$ and $Q(X)$.\n",
    "\n",
    "$$\\mathbb{D}_{KL}(P|Q) = - \\sum_{i=1}^n p(x_i)\\ ln_b \\frac{q(x_i)}{q(x_i)}$$\n",
    "\n",
    "Ideally, in the case of training a machine learning model we want a distribution $Q(X)$, which is identical to the actual data distribution $P(X)$. \n",
    "\n",
    "But, you may say, if we could know $P(X)$ why compute $Q(X)$ at all? Fortunately, we do not have to. We can rewrite the KL divergence as:\n",
    "\n",
    "$$\\mathbb{D}_{KL}(P|Q) = \\sum_{i=1}^n p(x_i)\\ ln_b p(x_i) - \\sum_{i=1}^n p(x_i)\\ ln_b q(x_i)$$\n",
    "\n",
    "Since $P(X)$ is fixed and we wish to find $Q(X)$ when we train our model, we can minimize the term on the right, which is the **cross entropy** defined as:\n",
    "\n",
    "$$\\mathbb{H}(P,Q) = - \\sum_{i=1}^n p(x_i)\\ ln_b q(x_i)$$\n"
   ]
  },
  {
   "cell_type": "markdown",
   "metadata": {
    "collapsed": true
   },
   "source": [
    "## Activation functions\n",
    "\n",
    "A neural net would is just a linear model if only linear units are used. This limits representations to only functions to those with linear coefficients. To create more general representations **nonlinear activation functions** are required. \n",
    "\n",
    "In present practice three activation functions are generally used. \n",
    "\n",
    "1. The **rectilinear** activation function is used for most hidden units.\n",
    "2. The **logistic** or **sigmoid** activation function is used for binary classifiers.\n",
    "3. The **softmax** activation function is used for multi-class classifiers. \n",
    "\n",
    "Rectilinear functions are typically used as the activiation function for hidden units in neural networks. The rectilinear function is defined at:\n",
    "\n",
    "$$f(x) = max(0, x)$$\n",
    "\n",
    "The rectilinear function is linear for postive responses and zero for responses less than 0.0. Noticec that the derivatives of the rectilinear function are not continious. While this might seem to be a problem, in practice, even gradient-based optimization functions work well with thsi activation function. \n",
    "\n",
    "The rectilinear function is plotted in the cell below:"
   ]
  },
  {
   "cell_type": "code",
   "execution_count": 31,
   "metadata": {
    "collapsed": false
   },
   "outputs": [
    {
     "data": {
      "image/png": "[encoded data removed]",
      "text/plain": [
       "<matplotlib.figure.Figure at 0x24f3db2e2e8>"
      ]
     },
     "metadata": {},
     "output_type": "display_data"
    }
   ],
   "source": [
    "%matplotlib inline\n",
    "import matplotlib.pyplot as plt\n",
    "import seaborn as sns\n",
    "## Compute the lectilinear function\n",
    "x = [float(x)/100 for x in range(-100, 100)]\n",
    "y = [max(0, y) for y in x]\n",
    "## Plot the result\n",
    "def plot_figs(x,y,title, figsize = (4, 3)):\n",
    "    plt.figure(figsize=figsize).gca() # define axis\n",
    "    sns.set_style(\"darkgrid\")\n",
    "    plt.plot(x, y)\n",
    "    plt.ylim((-0.1,1.0))\n",
    "    plt.title(title)\n",
    "    plt.xlabel('X')\n",
    "    plt.ylabel('Y')\n",
    "plot_figs(x,y,'The Rectilinear Function')    "
   ]
  },
  {
   "cell_type": "markdown",
   "metadata": {},
   "source": [
    "Another widely used activation function is the **logistic** or **sigmoid**. The sigmoid is used as the activation for the output layer of a binary classifier. The general sigmoid function can be written as:\n",
    "\n",
    "$$\\sigma(x) = \\frac{L}{1 + e^{-k(x_0-x)}}\\\\\n",
    "where\\\\\n",
    "L = max\\ value\\\\\n",
    "k = slope\\\\\n",
    "x_0 = sigmoid\\ midpoint$$\n",
    "\n",
    "With $L=1$, $k=1$, and $x_0 = 0$, the logistic function becomes: \n",
    "\n",
    "$$\\sigma(x) = \\frac{1}{1 + e^{-x}} = \\frac{e^x}{1+e^x}$$\n",
    "\n",
    "The sigmoid function can asymptotically approach $0$ or $1$, but will never reach these extreem values. However, because of the rapid decrease in the derivative away from $0$ the sigmoid can **saturate** when using gradient-based training. For this reason, the sigmoid is typically not used for hidden layers in neural networks.   \n",
    "\n",
    "When used in a the binary classifier a threshold is set to determine if the result is $0$ or $1$. The threshold can be adjusted to bias the result as desired. \n",
    "\n",
    "The code in the cell below plots the sigmoid function. "
   ]
  },
  {
   "cell_type": "code",
   "execution_count": 33,
   "metadata": {
    "collapsed": false,
    "scrolled": true
   },
   "outputs": [
    {
     "data": {
      "image/png": "[encoded data removed]",
      "text/plain": [
       "<matplotlib.figure.Figure at 0x24f3edf4518>"
      ]
     },
     "metadata": {},
     "output_type": "display_data"
    }
   ],
   "source": [
    "from math import exp\n",
    "x = [float(x)/100 for x in range(-700, 700)]\n",
    "y = [exp(y)/(1 + exp(y)) for y in x]\n",
    "plot_figs(x,y,'The Logistic Function', figsize = (5,3))    "
   ]
  },
  {
   "cell_type": "markdown",
   "metadata": {
    "collapsed": true
   },
   "source": [
    "The **softmax** function or **normalized exponential function** is used for the output activation function of a multi-class classifiers. The softmax function is the multinomial generalization of the sigmoid or logistic function. The probability of each class $j$ is writen as: \n",
    "\n",
    "$$\\sigma(z_j) = \\frac{e^{z_j}}{\\sum_{k=1}^K e^{z_k}}$$\n",
    "\n",
    "The normalization $\\sum_{k=1}^K e^{z_k}$ ensures the sum of probabilities for all classes add to $1.0$. The class selected by the classifier is the class with the largest value of $\\sigma(z_j)$."
   ]
  },
  {
   "cell_type": "code",
   "execution_count": null,
   "metadata": {
    "collapsed": true
   },
   "outputs": [],
   "source": []
  }
 ],
 "metadata": {
  "anaconda-cloud": {},
  "kernelspec": {
   "display_name": "Python [default]",
   "language": "python",
   "name": "python3"
  },
  "language_info": {
   "codemirror_mode": {
    "name": "ipython",
    "version": 3
   },
   "file_extension": ".py",
   "mimetype": "text/x-python",
   "name": "python",
   "nbconvert_exporter": "python",
   "pygments_lexer": "ipython3",
   "version": "3.5.2"
  }
 },
 "nbformat": 4,
 "nbformat_minor": 1
}
