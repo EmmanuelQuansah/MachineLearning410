{
 "cells": [
  {
   "cell_type": "markdown",
   "metadata": {},
   "source": [
    "# Introduction to Recurrent Neural Networks\n",
    "\n",
    "### Machine Learning 410\n",
    "### Steve Elston\n",
    "\n",
    "## 1.0 Introduction to neural networks\n",
    "\n",
    "In this lesson you will explore **recurrent neural networks (RNNs)**. Recurrent neural networks use a distinctive model which is suitable for sequence data. Sequence data can include human speech, natural language, and numerical time series. Natural language applications include machine translation and question response systems. RNNs can also be applied to multi-dimensional data. For example, RNNs are used to caption images.    "
   ]
  },
  {
   "cell_type": "markdown",
   "metadata": {},
   "source": [
    "### 1.1 Basic recurrence relationships for neural networks\n",
    "\n",
    "**Recurrent neural networks (RNNs)** use recurrence operations to operate on **sequences**. But, what do we mean by a recurrence? Simply put, recurrent functions are functions that call themselves to process values of a sequence. \n",
    "\n",
    "Let's look at a simple example. Start with a function that operates on a value at one time step to compute an output at the next time step. We can write such a function as follows:\n",
    "\n",
    "$$s^{(t)} = f(s^{(t-1)}; \\theta)$$\n",
    "\n",
    "This apply this functional relation once again applied again to compute the output at the next time step. This relationship can be written as follows.\n",
    "\n",
    "$$s^{(t+1)} = f(f(s^{(t-1)}; \\theta); \\theta)$$"
   ]
  },
  {
   "cell_type": "markdown",
   "metadata": {},
   "source": [
    "### 1.2 Basic recurrent neural network architecture\n",
    "\n",
    "How to we create a neural network with a recurrence relationship? A single hidden layer recurrent neural network is illustrated in Figure 1.1 below. The hidden layer of this network has a recurrent or feedback path.    \n",
    "\n",
    "<img src=\"img/Recurrent1.jpg\" alt=\"Drawing\" style=\"width:200px; height:400px\"/>\n",
    "<center>**Figure 1.1. Basic architecture of a recurrent process**</center>\n",
    "\n",
    "Figure 1.1 illustrates the concept of an RNN. But, how can this architecture be used to perform actual compuations? The answer is to **unfold** the recurrence relationship. This unfolding is illustrated in Figure 1.2. Notice that the unfolded network represents a long sequence of calculations.  \n",
    "\n",
    "<img src=\"img/Unfolded1.jpg\" alt=\"Drawing\" style=\"width:450px; height:400px\"/>\n",
    "<center>**Figure 1.2. Unrolled basic recurrent process**</center>\n",
    "\n",
    "The capital letters in Figure 1.2 represent weight tensors of the model. It is these weight tensors that must be learned when training an RNN. Typcially, these weight tensors are learned by using **back propagation through time (BPTT)**. BPTT is a generalization of the general back propagation algorithm. \n",
    "\n",
    "Given these weight tensors the feed-forward calculation for a multinomial classifier RRN can be writen as follows:  \n",
    "\n",
    "$$a^{(t)} = b + W h^{(t-1)} + Ux^{(t)}\\\\\n",
    "h^{(t)} = tanh(a^{(t)})\\\\\n",
    "o^{(t)} = c + Vh^{(t)}\\\\\n",
    "\\hat{y}^{(t)} = softmax(o^{(t)})$$\n",
    "\n",
    "These relationships are relatively complex. This is especially the case when comparied to the basic fully-connected networks. \n",
    "\n",
    "Notice that the weight tensors of the RNN are the same at each time step. This fact has two important implications.\n",
    "1. These **Shared weight** tensors are learned. This makes the training of RNNs tractable. Furhter, the statistical strenght of the training is increased. \n",
    "2. The RNN can only be used to model **stationary** sequences. A stationary sequence has statistical properties (e.g. variance) that are **invariant with time**.  "
   ]
  },
  {
   "cell_type": "markdown",
   "metadata": {},
   "source": [
    "### 1.3 Recurrent network with single output\n",
    "\n",
    "The RNN architecture illustrated  \n",
    "\n",
    "<img src=\"img/RNNwithSingOutput.JPG\" alt=\"Drawing\" style=\"width:500px; height:400px\"/>\n",
    "<center>**Figure 1.3. RNN with single output**</center>\n",
    "\n"
   ]
  },
  {
   "cell_type": "markdown",
   "metadata": {},
   "source": [
    "## 2.0 Text example with Keras\n",
    "\n",
    "Let's see how some of this theory works in practice using Keras. Execute the code in the cell below to load the required packages."
   ]
  },
  {
   "cell_type": "code",
   "execution_count": 1,
   "metadata": {},
   "outputs": [
    {
     "name": "stderr",
     "output_type": "stream",
     "text": [
      "C:\\Users\\StevePC2\\Anaconda3\\lib\\site-packages\\h5py\\__init__.py:36: FutureWarning: Conversion of the second argument of issubdtype from `float` to `np.floating` is deprecated. In future, it will be treated as `np.float64 == np.dtype(float).type`.\n",
      "  from ._conv import register_converters as _register_converters\n",
      "Using TensorFlow backend.\n"
     ]
    }
   ],
   "source": [
    "from keras import layers\n",
    "from keras.datasets import imdb\n",
    "from keras import preprocessing\n",
    "from keras.models import Sequential\n",
    "from keras.layers import Flatten, Dense, Embedding, SimpleRNN, LSTM, GRU, Bidirectional\n",
    "import matplotlib.pyplot as plt\n",
    "\n",
    "%matplotlib inline"
   ]
  },
  {
   "cell_type": "markdown",
   "metadata": {},
   "source": [
    "### 2.1 Overview of text embedding\n",
    "\n",
    "In the following examples we will use a feature extraction technique known as **text embedding**. A text embedding layer is often used to extract features before RNN layers are used. This general architecture is shown in Figure 2.1 \n",
    "\n",
    "<img src=\"img/Architecture.JPG\" alt=\"Drawing\" style=\"width:250px; height:250px\"/>\n",
    "\n",
    "We will not dive deeply into this topic for this lesson since our focus is on RNNs. However, a bit of background will help you understand what is going on.\n",
    "\n",
    "There are a great many approaches which have been tried for text analytics and **natural language processing (NLP)**. We will only discuss a few of these models briefly here: \n",
    "\n",
    "- The **bag of words model (BOW)** is a simple widely used and suprsingly effective model for analysis of text data. The BOW model assumes **exchangeability** of words. The BOW model depends only on the frequency of the words in the document. The order of the words is not consisdered. Dispite these seamingly rediculous assumptions, the model wo rks well in many cases. The end product of applying the BOW model is a term-document or document-term matrix. The tdm, or dtm is a structured representation of word frequency by document. The tdm or dtm can be used for classification if lables are available or clustering for unspervised learning. \n",
    "- The **N-gram** model uses all possible sequences of N words  \n",
    "- Another widely used model is of **Part of Speech (PoS) Tagging**. PoS tagging attempts to label or anotate words in a corpus (e.g. a collection of documents) as, say nouns, verbs, pronouns, etc. PoS tagging is beyond the  scope of this Lesson. The PoS tagger creates a tree of the relationship of words in say a sentance. One useful specialization of PoS tagging is named entity recognition, which attempts to find proper nouns. \n",
    "\n",
    "Other powerful models are the **word to vec** and **doc to vec** models. Word to vec, uses a neural network model to determine similarity between words. These models are beyond the scope of this tutorial. You can find a good introduction to this model in the \n",
    "\n",
    "\n",
    "![](img/Embedding.JPG)\n",
    "\n",
    "[article by Rong](https://arxiv.org/pdf/1411.2738.pdf)"
   ]
  },
  {
   "cell_type": "markdown",
   "metadata": {},
   "source": [
    "### 2.2 Text embedding example\n",
    "\n",
    "Let's try a simple sentiment classifier using text embedding. We will try sentiment analysis of movie review text using the IMDB dataset built into Keras. This dataset includes the full text of a number of movie reviews, along with labels indicating if the review has positive of negative sentiment. \n",
    "\n",
    "The code in the cell below performs the following steps:\n",
    "1. Loads the IMDB data into train and test subsets.\n",
    "2. Pads the squence of words in each review so that all sequences have the same length. Padding is required so that Keras neural networks can operate on the input. \n",
    "3. Prints some summary information on the result."
   ]
  },
  {
   "cell_type": "code",
   "execution_count": 2,
   "metadata": {},
   "outputs": [
    {
     "name": "stdout",
     "output_type": "stream",
     "text": [
      "25000\n",
      "[]\n"
     ]
    }
   ],
   "source": [
    "max_features = 10000\n",
    "max_len = 250\n",
    "(train_text, train_labels), (test_text, test_labels) = imdb.load_data(num_words = max_features)\n",
    "train_text = preprocessing.sequence.pad_sequences(train_text, maxlen = max_len)\n",
    "test_text = preprocessing.sequence.pad_sequences(test_text, maxlen = max_len)\n",
    "print(len(train_text))\n",
    "print(train_text[1][250:])"
   ]
  },
  {
   "cell_type": "code",
   "execution_count": 3,
   "metadata": {},
   "outputs": [
    {
     "name": "stdout",
     "output_type": "stream",
     "text": [
      "_________________________________________________________________\n",
      "Layer (type)                 Output Shape              Param #   \n",
      "=================================================================\n",
      "embedding_1 (Embedding)      (None, 250, 8)            80000     \n",
      "_________________________________________________________________\n",
      "flatten_1 (Flatten)          (None, 2000)              0         \n",
      "_________________________________________________________________\n",
      "dense_1 (Dense)              (None, 1)                 2001      \n",
      "=================================================================\n",
      "Total params: 82,001\n",
      "Trainable params: 82,001\n",
      "Non-trainable params: 0\n",
      "_________________________________________________________________\n"
     ]
    }
   ],
   "source": [
    "embedding = Sequential()\n",
    "## First add an embedding layer\n",
    "embedding.add(Embedding(10000, 8, input_length = max_len))\n",
    "## Flatten the embedding of the features\n",
    "embedding.add(Flatten())\n",
    "## Now the  binary classifier layer\n",
    "embedding.add(Dense(1, activation = 'sigmoid'))\n",
    "embedding.compile(optimizer = 'RMSprop', loss = 'binary_crossentropy', metrics = ['acc'])\n",
    "embedding.summary()"
   ]
  },
  {
   "cell_type": "code",
   "execution_count": 4,
   "metadata": {},
   "outputs": [
    {
     "name": "stdout",
     "output_type": "stream",
     "text": [
      "Train on 25000 samples, validate on 25000 samples\n",
      "Epoch 1/10\n",
      " 1536/25000 [>.............................] - ETA: 15s - loss: 0.6934 - acc: 0.4909"
     ]
    },
    {
     "name": "stderr",
     "output_type": "stream",
     "text": [
      "C:\\Users\\StevePC2\\Anaconda3\\lib\\site-packages\\keras\\callbacks.py:120: UserWarning: Method on_batch_end() is slow compared to the batch update (0.102295). Check your callbacks.\n",
      "  % delta_t_median)\n"
     ]
    },
    {
     "name": "stdout",
     "output_type": "stream",
     "text": [
      "25000/25000 [==============================] - 3s 130us/step - loss: 0.6840 - acc: 0.5778 - val_loss: 0.6530 - val_acc: 0.7111\n",
      "Epoch 2/10\n",
      "25000/25000 [==============================] - 1s 60us/step - loss: 0.5551 - acc: 0.7912 - val_loss: 0.4745 - val_acc: 0.8223\n",
      "Epoch 3/10\n",
      "25000/25000 [==============================] - 1s 59us/step - loss: 0.3845 - acc: 0.8640 - val_loss: 0.3581 - val_acc: 0.8604\n",
      "Epoch 4/10\n",
      "25000/25000 [==============================] - 1s 56us/step - loss: 0.2951 - acc: 0.8914 - val_loss: 0.3126 - val_acc: 0.8714\n",
      "Epoch 5/10\n",
      "25000/25000 [==============================] - 1s 56us/step - loss: 0.2482 - acc: 0.9104 - val_loss: 0.2897 - val_acc: 0.8786\n",
      "Epoch 6/10\n",
      "25000/25000 [==============================] - 1s 55us/step - loss: 0.2173 - acc: 0.9210 - val_loss: 0.2786 - val_acc: 0.8826\n",
      "Epoch 7/10\n",
      "25000/25000 [==============================] - 1s 51us/step - loss: 0.1944 - acc: 0.9308 - val_loss: 0.2743 - val_acc: 0.8853\n",
      "Epoch 8/10\n",
      "25000/25000 [==============================] - 1s 53us/step - loss: 0.1764 - acc: 0.9363 - val_loss: 0.2722 - val_acc: 0.8848\n",
      "Epoch 9/10\n",
      "25000/25000 [==============================] - 1s 45us/step - loss: 0.1613 - acc: 0.9437 - val_loss: 0.2732 - val_acc: 0.8855\n",
      "Epoch 10/10\n",
      "25000/25000 [==============================] - 1s 56us/step - loss: 0.1476 - acc: 0.9502 - val_loss: 0.2784 - val_acc: 0.8846\n"
     ]
    }
   ],
   "source": [
    "historyEMB = embedding.fit(train_text, train_labels,\n",
    "                   epochs = 10,\n",
    "                   batch_size = 256,\n",
    "                   validation_data = (test_text, test_labels))"
   ]
  },
  {
   "cell_type": "code",
   "execution_count": 7,
   "metadata": {},
   "outputs": [
    {
     "ename": "NameError",
     "evalue": "name 'historyEMB' is not defined",
     "output_type": "error",
     "traceback": [
      "\u001b[1;31m---------------------------------------------------------------------------\u001b[0m",
      "\u001b[1;31mNameError\u001b[0m                                 Traceback (most recent call last)",
      "\u001b[1;32m<ipython-input-7-146dee7bdb7f>\u001b[0m in \u001b[0;36m<module>\u001b[1;34m()\u001b[0m\n\u001b[0;32m     11\u001b[0m     \u001b[0mplt\u001b[0m\u001b[1;33m.\u001b[0m\u001b[0mtitle\u001b[0m\u001b[1;33m(\u001b[0m\u001b[1;34m'Loss vs. Epoch'\u001b[0m\u001b[1;33m)\u001b[0m\u001b[1;33m\u001b[0m\u001b[0m\n\u001b[0;32m     12\u001b[0m \u001b[1;33m\u001b[0m\u001b[0m\n\u001b[1;32m---> 13\u001b[1;33m \u001b[0mplot_loss\u001b[0m\u001b[1;33m(\u001b[0m\u001b[0mhistoryEMB\u001b[0m\u001b[1;33m)\u001b[0m\u001b[1;33m\u001b[0m\u001b[0m\n\u001b[0m",
      "\u001b[1;31mNameError\u001b[0m: name 'historyEMB' is not defined"
     ]
    }
   ],
   "source": [
    "def plot_loss(history):\n",
    "    '''Function to plot the loss vs. epoch'''\n",
    "    train_loss = history.history['loss']\n",
    "    test_loss = history.history['val_loss']\n",
    "    x = list(range(1, len(test_loss) + 1))\n",
    "    plt.plot(x, test_loss, color = 'red', label = 'Test loss')\n",
    "    plt.plot(x, train_loss, label = 'Training losss')\n",
    "    plt.legend()\n",
    "    plt.xlabel('Epoch')\n",
    "    plt.ylabel('Loss')\n",
    "    plt.title('Loss vs. Epoch')\n",
    "    \n",
    "plot_loss(historyEMB)    "
   ]
  },
  {
   "cell_type": "code",
   "execution_count": 8,
   "metadata": {},
   "outputs": [
    {
     "ename": "NameError",
     "evalue": "name 'historyEMB' is not defined",
     "output_type": "error",
     "traceback": [
      "\u001b[1;31m---------------------------------------------------------------------------\u001b[0m",
      "\u001b[1;31mNameError\u001b[0m                                 Traceback (most recent call last)",
      "\u001b[1;32m<ipython-input-8-32a941af03f8>\u001b[0m in \u001b[0;36m<module>\u001b[1;34m()\u001b[0m\n\u001b[0;32m     10\u001b[0m     \u001b[0mplt\u001b[0m\u001b[1;33m.\u001b[0m\u001b[0mtitle\u001b[0m\u001b[1;33m(\u001b[0m\u001b[1;34m'Accuracy vs. Epoch'\u001b[0m\u001b[1;33m)\u001b[0m\u001b[1;33m\u001b[0m\u001b[0m\n\u001b[0;32m     11\u001b[0m \u001b[1;33m\u001b[0m\u001b[0m\n\u001b[1;32m---> 12\u001b[1;33m \u001b[0mplot_accuracy\u001b[0m\u001b[1;33m(\u001b[0m\u001b[0mhistoryEMB\u001b[0m\u001b[1;33m)\u001b[0m\u001b[1;33m\u001b[0m\u001b[0m\n\u001b[0m",
      "\u001b[1;31mNameError\u001b[0m: name 'historyEMB' is not defined"
     ]
    }
   ],
   "source": [
    "def plot_accuracy(history):\n",
    "    train_acc = history.history['acc']\n",
    "    test_acc = history.history['val_acc']\n",
    "    x = list(range(1, len(test_acc) + 1))\n",
    "    plt.plot(x, test_acc, color = 'red', label = 'Test accuracy')\n",
    "    plt.plot(x, train_acc, label = 'Training accuracy')\n",
    "    plt.legend()\n",
    "    plt.xlabel('Epoch')\n",
    "    plt.ylabel('Accuracy')\n",
    "    plt.title('Accuracy vs. Epoch')  \n",
    "    \n",
    "plot_accuracy(historyEMB) "
   ]
  },
  {
   "cell_type": "code",
   "execution_count": 7,
   "metadata": {
    "scrolled": true
   },
   "outputs": [
    {
     "name": "stdout",
     "output_type": "stream",
     "text": [
      "_________________________________________________________________\n",
      "Layer (type)                 Output Shape              Param #   \n",
      "=================================================================\n",
      "embedding_2 (Embedding)      (None, None, 32)          320000    \n",
      "_________________________________________________________________\n",
      "simple_rnn_1 (SimpleRNN)     (None, 32)                2080      \n",
      "_________________________________________________________________\n",
      "dense_2 (Dense)              (None, 1)                 33        \n",
      "=================================================================\n",
      "Total params: 322,113\n",
      "Trainable params: 322,113\n",
      "Non-trainable params: 0\n",
      "_________________________________________________________________\n"
     ]
    }
   ],
   "source": [
    "RNN1 = Sequential()\n",
    "## First add an embedding layer\n",
    "RNN1.add(Embedding(max_features, 32))\n",
    "## Now add an RNN layer\n",
    "RNN1.add(SimpleRNN(32))\n",
    "## And the classifier layer\n",
    "RNN1.add(Dense(1, activation = 'sigmoid'))\n",
    "RNN1.compile(optimizer = 'RMSprop', loss = 'binary_crossentropy', metrics = ['acc'])\n",
    "RNN1.summary()"
   ]
  },
  {
   "cell_type": "code",
   "execution_count": 8,
   "metadata": {
    "scrolled": false
   },
   "outputs": [
    {
     "name": "stdout",
     "output_type": "stream",
     "text": [
      "Train on 25000 samples, validate on 25000 samples\n",
      "Epoch 1/10\n",
      "25000/25000 [==============================] - 13s 531us/step - loss: 0.6808 - acc: 0.5688 - val_loss: 0.6516 - val_acc: 0.6266\n",
      "Epoch 2/10\n",
      "25000/25000 [==============================] - 11s 420us/step - loss: 0.5744 - acc: 0.7108 - val_loss: 0.4766 - val_acc: 0.8046\n",
      "Epoch 3/10\n",
      "25000/25000 [==============================] - 11s 425us/step - loss: 0.4363 - acc: 0.8150 - val_loss: 0.4911 - val_acc: 0.7656\n",
      "Epoch 4/10\n",
      "25000/25000 [==============================] - 13s 510us/step - loss: 0.3769 - acc: 0.8451 - val_loss: 0.4031 - val_acc: 0.8272\n",
      "Epoch 5/10\n",
      "25000/25000 [==============================] - 11s 451us/step - loss: 0.3226 - acc: 0.8708 - val_loss: 0.3698 - val_acc: 0.8440\n",
      "Epoch 6/10\n",
      "25000/25000 [==============================] - 12s 468us/step - loss: 0.2888 - acc: 0.8868 - val_loss: 0.4445 - val_acc: 0.8091\n",
      "Epoch 7/10\n",
      "25000/25000 [==============================] - 11s 450us/step - loss: 0.2565 - acc: 0.9021 - val_loss: 0.3473 - val_acc: 0.8565\n",
      "Epoch 8/10\n",
      "25000/25000 [==============================] - 16s 651us/step - loss: 0.2297 - acc: 0.9158 - val_loss: 0.4048 - val_acc: 0.8175\n",
      "Epoch 9/10\n",
      "25000/25000 [==============================] - 12s 496us/step - loss: 0.1972 - acc: 0.9290 - val_loss: 0.4114 - val_acc: 0.8184\n",
      "Epoch 10/10\n",
      "25000/25000 [==============================] - 11s 440us/step - loss: 0.1763 - acc: 0.9382 - val_loss: 0.4506 - val_acc: 0.7910\n"
     ]
    }
   ],
   "source": [
    "historyRNN = RNN1.fit(train_text, train_labels,\n",
    "                   epochs = 10,\n",
    "                   batch_size = 1024,\n",
    "                   validation_data = (test_text, test_labels))"
   ]
  },
  {
   "cell_type": "code",
   "execution_count": 9,
   "metadata": {},
   "outputs": [
    {
     "data": {
      "image/png": "[encoded data removed]",
      "text/plain": [
       "<matplotlib.figure.Figure at 0x1c70aa497b8>"
      ]
     },
     "metadata": {},
     "output_type": "display_data"
    }
   ],
   "source": [
    "plot_loss(historyRNN)    "
   ]
  },
  {
   "cell_type": "code",
   "execution_count": 10,
   "metadata": {},
   "outputs": [
    {
     "data": {
      "image/png": "[encoded data removed]",
      "text/plain": [
       "<matplotlib.figure.Figure at 0x1c70ca53c18>"
      ]
     },
     "metadata": {},
     "output_type": "display_data"
    }
   ],
   "source": [
    "plot_accuracy(historyRNN) "
   ]
  },
  {
   "cell_type": "markdown",
   "metadata": {},
   "source": [
    "## X.X Bidirectional RNNs\n",
    "\n",
    "![](img/Bidirectional1.JPG)\n",
    "<center>**Architecture of simple bidirectional RNN**</center>\n",
    "\n",
    "\n",
    "$$a^{(t)} = b + W h^{(t-1)} + Ux^{(t)}\\\\\n",
    "i^{(t)} = d + Q g^{(t+1)} + Rx^{(t)}\\\\\n",
    "h^{(t)} = tanh(a^{(t)})\\\\\n",
    "g^{(t)} = tanh(i^{(t)})\\\\\n",
    "o^{(t)} = c + Vh^{(t)} + Sg^{(t)}\\\\\n",
    "\\hat{y}^{(t)} = softmax(o^{(t)})$$"
   ]
  },
  {
   "cell_type": "markdown",
   "metadata": {},
   "source": [
    "## X.X Sequence generation with RNNs\n",
    "\n",
    "<img src=\"img/SequenceGenRNN.jpg\" alt=\"Drawing\" style=\"width:475px; height:400px\"/>\n",
    "<center>**Sequence generation with RNN**</center>"
   ]
  },
  {
   "cell_type": "markdown",
   "metadata": {},
   "source": [
    "## X.X Adding depth to RNNs\n",
    "\n",
    "The RNN architectures we have discussed so far in this lesson have been shallow with only a single recurrent hidden layer. Having a single hidden layer limits the representation capacity of the RNN. \n",
    "\n",
    "To overcome the limitations of a single hidden layer\n",
    "\n",
    "<img src=\"img/DeepRNN1.jpg\" alt=\"Drawing\" style=\"width:200px; height:400px\"/>\n",
    "<center>**Figure X.X. Basic deep RNN**</center>\n",
    "\n",
    "<img src=\"img/DeepRNNSkip.jpg\" alt=\"Drawing\" style=\"width:250px; height:400px\"/>\n",
    "<center>**Figure X.X. RNN with skip connection**</center>\n",
    "\n"
   ]
  },
  {
   "cell_type": "markdown",
   "metadata": {},
   "source": [
    "## X.X Regualarization of RNN"
   ]
  },
  {
   "cell_type": "code",
   "execution_count": 11,
   "metadata": {},
   "outputs": [
    {
     "name": "stdout",
     "output_type": "stream",
     "text": [
      "_________________________________________________________________\n",
      "Layer (type)                 Output Shape              Param #   \n",
      "=================================================================\n",
      "embedding_3 (Embedding)      (None, None, 32)          320000    \n",
      "_________________________________________________________________\n",
      "gru_1 (GRU)                  (None, 32)                6240      \n",
      "_________________________________________________________________\n",
      "dense_3 (Dense)              (None, 1)                 33        \n",
      "=================================================================\n",
      "Total params: 326,273\n",
      "Trainable params: 326,273\n",
      "Non-trainable params: 0\n",
      "_________________________________________________________________\n"
     ]
    }
   ],
   "source": [
    "RNN2 = Sequential()\n",
    "## First add an embedding layer\n",
    "RNN2.add(Embedding(max_features, 32))\n",
    "## Now add an RNN layer\n",
    "RNN2.add(GRU(32, dropout=0.1, recurrent_dropout=0.5))\n",
    "## And the classifier layer\n",
    "RNN2.add(Dense(1, activation = 'sigmoid'))\n",
    "RNN2.compile(optimizer = 'RMSprop', loss = 'binary_crossentropy', metrics = ['acc'])\n",
    "RNN2.summary()"
   ]
  },
  {
   "cell_type": "code",
   "execution_count": 12,
   "metadata": {},
   "outputs": [
    {
     "name": "stdout",
     "output_type": "stream",
     "text": [
      "Train on 25000 samples, validate on 25000 samples\n",
      "Epoch 1/10\n",
      "25000/25000 [==============================] - 35s 1ms/step - loss: 0.6775 - acc: 0.6096 - val_loss: 0.6399 - val_acc: 0.6752\n",
      "Epoch 2/10\n",
      "25000/25000 [==============================] - 36s 1ms/step - loss: 0.5867 - acc: 0.7312 - val_loss: 0.5632 - val_acc: 0.7274\n",
      "Epoch 3/10\n",
      "25000/25000 [==============================] - 38s 2ms/step - loss: 0.5188 - acc: 0.7696 - val_loss: 0.5242 - val_acc: 0.7462\n",
      "Epoch 4/10\n",
      "25000/25000 [==============================] - 42s 2ms/step - loss: 0.4707 - acc: 0.7949 - val_loss: 0.4980 - val_acc: 0.7546\n",
      "Epoch 5/10\n",
      "25000/25000 [==============================] - 49s 2ms/step - loss: 0.4377 - acc: 0.8096 - val_loss: 0.4878 - val_acc: 0.7626\n",
      "Epoch 6/10\n",
      "25000/25000 [==============================] - 50s 2ms/step - loss: 0.4153 - acc: 0.8202 - val_loss: 0.4812 - val_acc: 0.7652\n",
      "Epoch 7/10\n",
      "25000/25000 [==============================] - 45s 2ms/step - loss: 0.4018 - acc: 0.8282 - val_loss: 0.4900 - val_acc: 0.7592\n",
      "Epoch 8/10\n",
      "25000/25000 [==============================] - 48s 2ms/step - loss: 0.3832 - acc: 0.8406 - val_loss: 0.4717 - val_acc: 0.7748\n",
      "Epoch 9/10\n",
      "25000/25000 [==============================] - 48s 2ms/step - loss: 0.3744 - acc: 0.8424 - val_loss: 0.4877 - val_acc: 0.7675\n",
      "Epoch 10/10\n",
      "25000/25000 [==============================] - 49s 2ms/step - loss: 0.3651 - acc: 0.8475 - val_loss: 0.4981 - val_acc: 0.7590\n"
     ]
    }
   ],
   "source": [
    "historyRNN2 = RNN2.fit(train_text, train_labels,\n",
    "                   epochs = 10,\n",
    "                   batch_size = 1024,\n",
    "                   validation_data = (test_text, test_labels))"
   ]
  },
  {
   "cell_type": "code",
   "execution_count": 13,
   "metadata": {},
   "outputs": [],
   "source": [
    "plot_loss(historyRNN2)   "
   ]
  },
  {
   "cell_type": "code",
   "execution_count": 14,
   "metadata": {},
   "outputs": [],
   "source": [
    "plot_accuracy(historyRNN2) "
   ]
  },
  {
   "cell_type": "markdown",
   "metadata": {},
   "source": [
    "## X.X Long-short term network\n",
    "\n",
    "\n",
    "![](img/LSTM1.jpg)\n"
   ]
  },
  {
   "cell_type": "code",
   "execution_count": null,
   "metadata": {},
   "outputs": [],
   "source": []
  },
  {
   "cell_type": "code",
   "execution_count": 15,
   "metadata": {},
   "outputs": [
    {
     "name": "stdout",
     "output_type": "stream",
     "text": [
      "_________________________________________________________________\n",
      "Layer (type)                 Output Shape              Param #   \n",
      "=================================================================\n",
      "embedding_4 (Embedding)      (None, None, 32)          320000    \n",
      "_________________________________________________________________\n",
      "gru_2 (GRU)                  (None, 32)                6240      \n",
      "_________________________________________________________________\n",
      "dense_4 (Dense)              (None, 1)                 33        \n",
      "=================================================================\n",
      "Total params: 326,273\n",
      "Trainable params: 326,273\n",
      "Non-trainable params: 0\n",
      "_________________________________________________________________\n"
     ]
    }
   ],
   "source": [
    "GRU1 = Sequential()\n",
    "## First add an embedding layer\n",
    "GRU1.add(Embedding(max_features, 32))\n",
    "## Now add an RNN layer\n",
    "GRU1.add(GRU(32))\n",
    "## And the classifier layer\n",
    "GRU1.add(Dense(1, activation = 'sigmoid'))\n",
    "GRU1.compile(optimizer = 'RMSprop', loss = 'binary_crossentropy', metrics = ['acc'])\n",
    "GRU1.summary()"
   ]
  },
  {
   "cell_type": "code",
   "execution_count": 16,
   "metadata": {},
   "outputs": [
    {
     "name": "stdout",
     "output_type": "stream",
     "text": [
      "Train on 25000 samples, validate on 25000 samples\n",
      "Epoch 1/10\n",
      "25000/25000 [==============================] - 40s 2ms/step - loss: 0.6740 - acc: 0.6216 - val_loss: 0.6222 - val_acc: 0.7013\n",
      "Epoch 2/10\n",
      "25000/25000 [==============================] - 36s 1ms/step - loss: 0.4751 - acc: 0.7826 - val_loss: 0.4252 - val_acc: 0.8122\n",
      "Epoch 3/10\n",
      "25000/25000 [==============================] - 30s 1ms/step - loss: 0.3453 - acc: 0.8521 - val_loss: 0.4363 - val_acc: 0.7974\n",
      "Epoch 4/10\n",
      "25000/25000 [==============================] - 34s 1ms/step - loss: 0.2926 - acc: 0.8810 - val_loss: 0.3602 - val_acc: 0.8519\n",
      "Epoch 5/10\n",
      "25000/25000 [==============================] - 37s 1ms/step - loss: 0.2689 - acc: 0.8921 - val_loss: 0.3554 - val_acc: 0.8546\n",
      "Epoch 6/10\n",
      "25000/25000 [==============================] - 31s 1ms/step - loss: 0.2356 - acc: 0.9084 - val_loss: 0.3292 - val_acc: 0.8646\n",
      "Epoch 7/10\n",
      "25000/25000 [==============================] - 30s 1ms/step - loss: 0.2188 - acc: 0.9157 - val_loss: 0.3352 - val_acc: 0.8574\n",
      "Epoch 8/10\n",
      "25000/25000 [==============================] - 31s 1ms/step - loss: 0.1994 - acc: 0.9254 - val_loss: 0.3525 - val_acc: 0.8573\n",
      "Epoch 9/10\n",
      "25000/25000 [==============================] - 31s 1ms/step - loss: 0.1888 - acc: 0.9288 - val_loss: 0.3524 - val_acc: 0.8660\n",
      "Epoch 10/10\n",
      "25000/25000 [==============================] - 36s 1ms/step - loss: 0.1838 - acc: 0.9306 - val_loss: 0.3640 - val_acc: 0.8619\n"
     ]
    }
   ],
   "source": [
    "historyGRU1 = LSTM1.fit(train_text, train_labels,\n",
    "                   epochs = 10,\n",
    "                   batch_size = 1024,\n",
    "                   validation_data = (test_text, test_labels))"
   ]
  },
  {
   "cell_type": "code",
   "execution_count": 27,
   "metadata": {
    "scrolled": true
   },
   "outputs": [
    {
     "ename": "NameError",
     "evalue": "name 'historyGRU1' is not defined",
     "output_type": "error",
     "traceback": [
      "\u001b[1;31m---------------------------------------------------------------------------\u001b[0m",
      "\u001b[1;31mNameError\u001b[0m                                 Traceback (most recent call last)",
      "\u001b[1;32m<ipython-input-27-21950d6c8697>\u001b[0m in \u001b[0;36m<module>\u001b[1;34m()\u001b[0m\n\u001b[1;32m----> 1\u001b[1;33m \u001b[0mplot_loss\u001b[0m\u001b[1;33m(\u001b[0m\u001b[0mhistoryGRU1\u001b[0m\u001b[1;33m)\u001b[0m\u001b[1;33m\u001b[0m\u001b[0m\n\u001b[0m",
      "\u001b[1;31mNameError\u001b[0m: name 'historyGRU1' is not defined"
     ]
    }
   ],
   "source": [
    "plot_loss(historyGRU1)   "
   ]
  },
  {
   "cell_type": "code",
   "execution_count": 20,
   "metadata": {},
   "outputs": [
    {
     "ename": "NameError",
     "evalue": "name 'historyGRU1' is not defined",
     "output_type": "error",
     "traceback": [
      "\u001b[1;31m---------------------------------------------------------------------------\u001b[0m",
      "\u001b[1;31mNameError\u001b[0m                                 Traceback (most recent call last)",
      "\u001b[1;32m<ipython-input-20-ecd4399c466d>\u001b[0m in \u001b[0;36m<module>\u001b[1;34m()\u001b[0m\n\u001b[1;32m----> 1\u001b[1;33m \u001b[0mplot_accuracy\u001b[0m\u001b[1;33m(\u001b[0m\u001b[0mhistoryGRU1\u001b[0m\u001b[1;33m)\u001b[0m\u001b[1;33m\u001b[0m\u001b[0m\n\u001b[0m",
      "\u001b[1;31mNameError\u001b[0m: name 'historyGRU1' is not defined"
     ]
    }
   ],
   "source": [
    "plot_accuracy(historyGRU1) "
   ]
  },
  {
   "cell_type": "code",
   "execution_count": 23,
   "metadata": {},
   "outputs": [
    {
     "name": "stdout",
     "output_type": "stream",
     "text": [
      "_________________________________________________________________\n",
      "Layer (type)                 Output Shape              Param #   \n",
      "=================================================================\n",
      "embedding_7 (Embedding)      (None, None, 32)          320000    \n",
      "_________________________________________________________________\n",
      "bidirectional_2 (Bidirection (None, 64)                12480     \n",
      "_________________________________________________________________\n",
      "dense_6 (Dense)              (None, 1)                 65        \n",
      "=================================================================\n",
      "Total params: 332,545\n",
      "Trainable params: 332,545\n",
      "Non-trainable params: 0\n",
      "_________________________________________________________________\n"
     ]
    }
   ],
   "source": [
    "bidirection = Sequential()\n",
    "## First add an embedding layer\n",
    "bidirection.add(Embedding(max_features, 32))\n",
    "## Now add an RNN layer\n",
    "bidirection.add(Bidirectional(GRU(32)))\n",
    "## And the classifier layer\n",
    "bidirection.add(Dense(1, activation = 'sigmoid'))\n",
    "bidirection.compile(optimizer = 'RMSprop', loss = 'binary_crossentropy', metrics = ['acc'])\n",
    "bidirection.summary()"
   ]
  },
  {
   "cell_type": "code",
   "execution_count": 24,
   "metadata": {},
   "outputs": [
    {
     "name": "stdout",
     "output_type": "stream",
     "text": [
      "Train on 25000 samples, validate on 25000 samples\n",
      "Epoch 1/10\n",
      "25000/25000 [==============================] - 74s 3ms/step - loss: 0.6829 - acc: 0.5894 - val_loss: 0.6534 - val_acc: 0.6807\n",
      "Epoch 2/10\n",
      "25000/25000 [==============================] - 74s 3ms/step - loss: 0.5328 - acc: 0.7642 - val_loss: 0.4393 - val_acc: 0.8186\n",
      "Epoch 3/10\n",
      "25000/25000 [==============================] - 76s 3ms/step - loss: 0.4148 - acc: 0.8295 - val_loss: 0.3844 - val_acc: 0.8448\n",
      "Epoch 4/10\n",
      "25000/25000 [==============================] - 79s 3ms/step - loss: 0.3329 - acc: 0.8664 - val_loss: 0.4914 - val_acc: 0.7479\n",
      "Epoch 5/10\n",
      "25000/25000 [==============================] - 85s 3ms/step - loss: 0.3013 - acc: 0.8787 - val_loss: 0.4010 - val_acc: 0.8155\n",
      "Epoch 6/10\n",
      "25000/25000 [==============================] - 83s 3ms/step - loss: 0.2748 - acc: 0.8918 - val_loss: 0.3849 - val_acc: 0.8562\n",
      "Epoch 7/10\n",
      "25000/25000 [==============================] - 83s 3ms/step - loss: 0.2477 - acc: 0.9045 - val_loss: 0.4475 - val_acc: 0.8438\n",
      "Epoch 8/10\n",
      "25000/25000 [==============================] - 87s 3ms/step - loss: 0.2303 - acc: 0.9118 - val_loss: 0.3796 - val_acc: 0.8548\n",
      "Epoch 9/10\n",
      "25000/25000 [==============================] - 84s 3ms/step - loss: 0.2175 - acc: 0.9177 - val_loss: 0.3386 - val_acc: 0.8656\n",
      "Epoch 10/10\n",
      "25000/25000 [==============================] - 85s 3ms/step - loss: 0.2031 - acc: 0.9235 - val_loss: 0.3944 - val_acc: 0.8418\n"
     ]
    }
   ],
   "source": [
    "historyBi = bidirection.fit(train_text, train_labels,\n",
    "                   epochs = 10,\n",
    "                   batch_size = 1024,\n",
    "                   validation_data = (test_text, test_labels))"
   ]
  },
  {
   "cell_type": "code",
   "execution_count": 25,
   "metadata": {},
   "outputs": [
    {
     "data": {
      "image/png": "[encoded data removed]",
      "text/plain": [
       "<matplotlib.figure.Figure at 0x1c712b88518>"
      ]
     },
     "metadata": {},
     "output_type": "display_data"
    }
   ],
   "source": [
    "plot_loss(historyBi)   "
   ]
  },
  {
   "cell_type": "code",
   "execution_count": 34,
   "metadata": {
    "scrolled": true
   },
   "outputs": [
    {
     "data": {
      "image/png": "[encoded data removed]",
      "text/plain": [
       "<matplotlib.figure.Figure at 0x1c723d18550>"
      ]
     },
     "metadata": {},
     "output_type": "display_data"
    }
   ],
   "source": [
    "plot_accuracy(historyBi)"
   ]
  },
  {
   "cell_type": "code",
   "execution_count": 11,
   "metadata": {},
   "outputs": [
    {
     "name": "stdout",
     "output_type": "stream",
     "text": [
      "_________________________________________________________________\n",
      "Layer (type)                 Output Shape              Param #   \n",
      "=================================================================\n",
      "embedding_3 (Embedding)      (None, None, 32)          320000    \n",
      "_________________________________________________________________\n",
      "simple_rnn_7 (SimpleRNN)     (None, None, 32)          2080      \n",
      "_________________________________________________________________\n",
      "simple_rnn_8 (SimpleRNN)     (None, None, 32)          2080      \n",
      "_________________________________________________________________\n",
      "simple_rnn_9 (SimpleRNN)     (None, 32)                2080      \n",
      "_________________________________________________________________\n",
      "dense_3 (Dense)              (None, 1)                 33        \n",
      "=================================================================\n",
      "Total params: 326,273\n",
      "Trainable params: 326,273\n",
      "Non-trainable params: 0\n",
      "_________________________________________________________________\n"
     ]
    }
   ],
   "source": [
    "RNN_deep = Sequential()\n",
    "## First add an embedding layer\n",
    "RNN_deep.add(Embedding(max_features, 32))\n",
    "## Now add an RNN layers\n",
    "RNN_deep.add(SimpleRNN(32, return_sequences = True))\n",
    "RNN_deep.add(SimpleRNN(32, return_sequences = True))\n",
    "RNN_deep.add(SimpleRNN(32, recurrent_dropout=0.5))\n",
    "## And the classifier layer\n",
    "RNN_deep.add(Dense(1, activation = 'sigmoid'))\n",
    "RNN_deep.compile(optimizer = 'RMSprop', loss = 'binary_crossentropy', metrics = ['acc'])\n",
    "RNN_deep.summary()"
   ]
  },
  {
   "cell_type": "code",
   "execution_count": 12,
   "metadata": {},
   "outputs": [
    {
     "name": "stdout",
     "output_type": "stream",
     "text": [
      "Train on 25000 samples, validate on 25000 samples\n",
      "Epoch 1/10\n",
      "25000/25000 [==============================] - 40s 2ms/step - loss: 0.7823 - acc: 0.4976 - val_loss: 0.7539 - val_acc: 0.5003\n",
      "Epoch 2/10\n",
      "25000/25000 [==============================] - 43s 2ms/step - loss: 0.7687 - acc: 0.5003 - val_loss: 0.7302 - val_acc: 0.5018\n",
      "Epoch 3/10\n",
      "25000/25000 [==============================] - 43s 2ms/step - loss: 0.7522 - acc: 0.4978 - val_loss: 0.7111 - val_acc: 0.5016\n",
      "Epoch 4/10\n",
      "25000/25000 [==============================] - 41s 2ms/step - loss: 0.7415 - acc: 0.4981 - val_loss: 0.7091 - val_acc: 0.5022\n",
      "Epoch 5/10\n",
      "25000/25000 [==============================] - 42s 2ms/step - loss: 0.7289 - acc: 0.5075 - val_loss: 0.7054 - val_acc: 0.4978\n",
      "Epoch 6/10\n",
      "25000/25000 [==============================] - 44s 2ms/step - loss: 0.7210 - acc: 0.5089 - val_loss: 0.7031 - val_acc: 0.5004\n",
      "Epoch 7/10\n",
      "25000/25000 [==============================] - 44s 2ms/step - loss: 0.7177 - acc: 0.5076 - val_loss: 0.6998 - val_acc: 0.4991\n",
      "Epoch 8/10\n",
      "25000/25000 [==============================] - 41s 2ms/step - loss: 0.7153 - acc: 0.5020 - val_loss: 0.6987 - val_acc: 0.4973\n",
      "Epoch 9/10\n",
      "25000/25000 [==============================] - 40s 2ms/step - loss: 0.7085 - acc: 0.5029 - val_loss: 0.6956 - val_acc: 0.4978\n",
      "Epoch 10/10\n",
      "25000/25000 [==============================] - 42s 2ms/step - loss: 0.7041 - acc: 0.5064 - val_loss: 0.6965 - val_acc: 0.5037\n"
     ]
    }
   ],
   "source": [
    "HistoryRNN_deep = RNN_deep.fit(train_text, train_labels,\n",
    "                   epochs = 10,\n",
    "                   batch_size = 1024,\n",
    "                   validation_data = (test_text, test_labels))"
   ]
  },
  {
   "cell_type": "code",
   "execution_count": 14,
   "metadata": {},
   "outputs": [
    {
     "data": {
      "image/png": "[encoded data removed]",
      "text/plain": [
       "<matplotlib.figure.Figure at 0x2058d56a470>"
      ]
     },
     "metadata": {},
     "output_type": "display_data"
    }
   ],
   "source": [
    "plot_loss(HistoryRNN_deep) "
   ]
  },
  {
   "cell_type": "code",
   "execution_count": 15,
   "metadata": {},
   "outputs": [
    {
     "data": {
      "image/png": "[encoded data removed]",
      "text/plain": [
       "<matplotlib.figure.Figure at 0x2058fc70978>"
      ]
     },
     "metadata": {},
     "output_type": "display_data"
    }
   ],
   "source": [
    "plot_accuracy(HistoryRNN_deep) "
   ]
  },
  {
   "cell_type": "markdown",
   "metadata": {},
   "source": [
    "#### Copyright 2018, Stephen F Elston. All rights reserved. "
   ]
  },
  {
   "cell_type": "code",
   "execution_count": null,
   "metadata": {},
   "outputs": [],
   "source": []
  }
 ],
 "metadata": {
  "kernelspec": {
   "display_name": "Python 3",
   "language": "python",
   "name": "python3"
  },
  "language_info": {
   "codemirror_mode": {
    "name": "ipython",
    "version": 3
   },
   "file_extension": ".py",
   "mimetype": "text/x-python",
   "name": "python",
   "nbconvert_exporter": "python",
   "pygments_lexer": "ipython3",
   "version": "3.6.4"
  }
 },
 "nbformat": 4,
 "nbformat_minor": 2
}
